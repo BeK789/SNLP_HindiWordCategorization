{
  "nbformat": 4,
  "nbformat_minor": 0,
  "metadata": {
    "colab": {
      "provenance": [],
      "include_colab_link": true
    },
    "kernelspec": {
      "name": "python3",
      "display_name": "Python 3"
    },
    "language_info": {
      "name": "python"
    }
  },
  "cells": [
    {
      "cell_type": "markdown",
      "metadata": {
        "id": "view-in-github",
        "colab_type": "text"
      },
      "source": [
        "<a href=\"https://colab.research.google.com/github/Harssin/SNLP_HindiWordCategorization/blob/main/Snlp.ipynb\" target=\"_parent\"><img src=\"https://colab.research.google.com/assets/colab-badge.svg\" alt=\"Open In Colab\"/></a>"
      ]
    },
    {
      "cell_type": "code",
      "execution_count": null,
      "metadata": {
        "colab": {
          "base_uri": "https://localhost:8080/"
        },
        "id": "kusAsnveYYa-",
        "outputId": "f5cc175a-9226-4917-a092-5dda89ba8a18"
      },
      "outputs": [
        {
          "output_type": "stream",
          "name": "stdout",
          "text": [
            "Looking in indexes: https://pypi.org/simple, https://us-python.pkg.dev/colab-wheels/public/simple/\n",
            "Requirement already satisfied: requests in /usr/local/lib/python3.7/dist-packages (2.23.0)\n",
            "Requirement already satisfied: certifi>=2017.4.17 in /usr/local/lib/python3.7/dist-packages (from requests) (2022.6.15)\n",
            "Requirement already satisfied: idna<3,>=2.5 in /usr/local/lib/python3.7/dist-packages (from requests) (2.10)\n",
            "Requirement already satisfied: urllib3!=1.25.0,!=1.25.1,<1.26,>=1.21.1 in /usr/local/lib/python3.7/dist-packages (from requests) (1.24.3)\n",
            "Requirement already satisfied: chardet<4,>=3.0.2 in /usr/local/lib/python3.7/dist-packages (from requests) (3.0.4)\n"
          ]
        }
      ],
      "source": [
        "pip install requests"
      ]
    },
    {
      "cell_type": "code",
      "source": [
        "pip install bs4"
      ],
      "metadata": {
        "colab": {
          "base_uri": "https://localhost:8080/"
        },
        "id": "wCmWNv4KYdnj",
        "outputId": "6cc9e006-6c87-45ec-dc1c-d12b639dea0a"
      },
      "execution_count": null,
      "outputs": [
        {
          "output_type": "stream",
          "name": "stdout",
          "text": [
            "Looking in indexes: https://pypi.org/simple, https://us-python.pkg.dev/colab-wheels/public/simple/\n",
            "Requirement already satisfied: bs4 in /usr/local/lib/python3.7/dist-packages (0.0.1)\n",
            "Requirement already satisfied: beautifulsoup4 in /usr/local/lib/python3.7/dist-packages (from bs4) (4.6.3)\n"
          ]
        }
      ]
    },
    {
      "cell_type": "code",
      "source": [
        "pip install html5lib"
      ],
      "metadata": {
        "colab": {
          "base_uri": "https://localhost:8080/"
        },
        "id": "kW-fK1WZYoFI",
        "outputId": "0cb26e8f-3c23-4a2f-bd4a-0d9a7b3d3e5f"
      },
      "execution_count": null,
      "outputs": [
        {
          "output_type": "stream",
          "name": "stdout",
          "text": [
            "Looking in indexes: https://pypi.org/simple, https://us-python.pkg.dev/colab-wheels/public/simple/\n",
            "Requirement already satisfied: html5lib in /usr/local/lib/python3.7/dist-packages (1.0.1)\n",
            "Requirement already satisfied: six>=1.9 in /usr/local/lib/python3.7/dist-packages (from html5lib) (1.15.0)\n",
            "Requirement already satisfied: webencodings in /usr/local/lib/python3.7/dist-packages (from html5lib) (0.5.1)\n"
          ]
        }
      ]
    },
    {
      "cell_type": "code",
      "source": [
        "import requests\n",
        "from bs4 import BeautifulSoup"
      ],
      "metadata": {
        "id": "xp1H_ZkHYuBJ"
      },
      "execution_count": null,
      "outputs": []
    },
    {
      "cell_type": "code",
      "source": [
        "url =\"https://www.hinditipsduniya.com/sarkari-website-list/\""
      ],
      "metadata": {
        "id": "pCmaVFBfYw3f"
      },
      "execution_count": null,
      "outputs": []
    },
    {
      "cell_type": "code",
      "source": [
        "#step 1: Get the url\n",
        "r= requests.get(url)\n",
        "htmlContent=r.content "
      ],
      "metadata": {
        "id": "IorNzBxgY07c"
      },
      "execution_count": null,
      "outputs": []
    },
    {
      "cell_type": "code",
      "source": [
        "#step 2: parse the Html\n",
        "soup= BeautifulSoup(htmlContent,'html.parser')"
      ],
      "metadata": {
        "id": "azVDC6VzY3-w"
      },
      "execution_count": null,
      "outputs": []
    },
    {
      "cell_type": "code",
      "source": [
        "#step 3: html tree traversal\n",
        "element=soup.find(\"p\")"
      ],
      "metadata": {
        "id": "oO9OBm6hY8op"
      },
      "execution_count": null,
      "outputs": []
    },
    {
      "cell_type": "code",
      "source": [
        "element"
      ],
      "metadata": {
        "colab": {
          "base_uri": "https://localhost:8080/"
        },
        "id": "FB35VB-wY_sH",
        "outputId": "52dc4534-9872-41eb-8e8c-c3949dc1c2aa"
      },
      "execution_count": null,
      "outputs": [
        {
          "output_type": "execute_result",
          "data": {
            "text/plain": [
              "<p><strong>सरकारी वेबसाइट लिस्ट</strong> : हम सभी सरकारी दफ्तर जाने के बजाय इन दिनों अपने सरकारी काम को जितना हो सके ऑनलाइन करते हैं। ताकि हम अपना काम घर पर रहकर कर सकें और समय बर्बाद न करें लेकिन कई बार हमें यह महसूस होता है कि हमारे काम को ऑनलाइन करने के लिए, हमें आधिकारिक वेबसाइट पर जाने की आवश्यकता होती है। ऐसे में हमें भारत सरकार के वेबसाइट के बारे में पता होना चाहिए। आज हम भारत के सरकारी वेबसाइट लिस्ट को आपके साथ साझा कर रहें हैं। आप यहाँ सभी सरकारी वेबसाइटों की एक विस्तृत सूची पा सकते हैं, जिनमें हर राज्य या केंद्र शासित प्रदेश के वेबसाइट भी शामिल हैं।</p>"
            ]
          },
          "metadata": {},
          "execution_count": 85
        }
      ]
    },
    {
      "cell_type": "code",
      "source": [
        "text=element.text"
      ],
      "metadata": {
        "id": "EgDw2ciNZBEk"
      },
      "execution_count": null,
      "outputs": []
    },
    {
      "cell_type": "code",
      "source": [
        "text"
      ],
      "metadata": {
        "colab": {
          "base_uri": "https://localhost:8080/",
          "height": 73
        },
        "id": "Qpteh5lQaSDa",
        "outputId": "34db767f-0127-4c2b-c780-322df691ed25"
      },
      "execution_count": null,
      "outputs": [
        {
          "output_type": "execute_result",
          "data": {
            "text/plain": [
              "'सरकारी वेबसाइट लिस्ट : हम सभी सरकारी दफ्तर जाने के बजाय इन दिनों अपने सरकारी काम को जितना हो सके ऑनलाइन करते हैं। ताकि हम अपना काम घर पर रहकर कर सकें और समय बर्बाद न करें लेकिन कई बार हमें यह महसूस होता है कि हमारे काम को ऑनलाइन करने के लिए, हमें आधिकारिक वेबसाइट पर जाने की आवश्यकता होती है। ऐसे में हमें भारत सरकार के वेबसाइट के बारे में पता होना चाहिए। आज हम भारत के सरकारी वेबसाइट लिस्ट को आपके साथ साझा कर रहें हैं। आप यहाँ सभी सरकारी वेबसाइटों की एक विस्तृत सूची पा सकते हैं, जिनमें हर राज्य या केंद्र शासित प्रदेश के वेबसाइट भी शामिल हैं।'"
            ],
            "application/vnd.google.colaboratory.intrinsic+json": {
              "type": "string"
            }
          },
          "metadata": {},
          "execution_count": 87
        }
      ]
    },
    {
      "cell_type": "code",
      "source": [
        "import nltk\n",
        "nltk.download('punkt')"
      ],
      "metadata": {
        "colab": {
          "base_uri": "https://localhost:8080/"
        },
        "id": "Qro-4gfWaTag",
        "outputId": "38d327f5-5934-4b29-b2d5-adc15793a10b"
      },
      "execution_count": null,
      "outputs": [
        {
          "output_type": "stream",
          "name": "stderr",
          "text": [
            "[nltk_data] Downloading package punkt to /root/nltk_data...\n",
            "[nltk_data]   Package punkt is already up-to-date!\n"
          ]
        },
        {
          "output_type": "execute_result",
          "data": {
            "text/plain": [
              "True"
            ]
          },
          "metadata": {},
          "execution_count": 88
        }
      ]
    },
    {
      "cell_type": "code",
      "source": [
        "import nltk"
      ],
      "metadata": {
        "id": "rsPOmrSmaYiJ"
      },
      "execution_count": null,
      "outputs": []
    },
    {
      "cell_type": "code",
      "source": [
        "tokens = nltk.word_tokenize(text)\n"
      ],
      "metadata": {
        "id": "SzhaHU4kacoG"
      },
      "execution_count": null,
      "outputs": []
    },
    {
      "cell_type": "code",
      "source": [
        "tokens"
      ],
      "metadata": {
        "colab": {
          "base_uri": "https://localhost:8080/"
        },
        "id": "Eeb9FQOMam0k",
        "outputId": "2da0e8a1-ff84-49ad-9634-c09f11cea645"
      },
      "execution_count": null,
      "outputs": [
        {
          "output_type": "execute_result",
          "data": {
            "text/plain": [
              "['सरकारी',\n",
              " 'वेबसाइट',\n",
              " 'लिस्ट',\n",
              " ':',\n",
              " 'हम',\n",
              " 'सभी',\n",
              " 'सरकारी',\n",
              " 'दफ्तर',\n",
              " 'जाने',\n",
              " 'के',\n",
              " 'बजाय',\n",
              " 'इन',\n",
              " 'दिनों',\n",
              " 'अपने',\n",
              " 'सरकारी',\n",
              " 'काम',\n",
              " 'को',\n",
              " 'जितना',\n",
              " 'हो',\n",
              " 'सके',\n",
              " 'ऑनलाइन',\n",
              " 'करते',\n",
              " 'हैं।',\n",
              " 'ताकि',\n",
              " 'हम',\n",
              " 'अपना',\n",
              " 'काम',\n",
              " 'घर',\n",
              " 'पर',\n",
              " 'रहकर',\n",
              " 'कर',\n",
              " 'सकें',\n",
              " 'और',\n",
              " 'समय',\n",
              " 'बर्बाद',\n",
              " 'न',\n",
              " 'करें',\n",
              " 'लेकिन',\n",
              " 'कई',\n",
              " 'बार',\n",
              " 'हमें',\n",
              " 'यह',\n",
              " 'महसूस',\n",
              " 'होता',\n",
              " 'है',\n",
              " 'कि',\n",
              " 'हमारे',\n",
              " 'काम',\n",
              " 'को',\n",
              " 'ऑनलाइन',\n",
              " 'करने',\n",
              " 'के',\n",
              " 'लिए',\n",
              " ',',\n",
              " 'हमें',\n",
              " 'आधिकारिक',\n",
              " 'वेबसाइट',\n",
              " 'पर',\n",
              " 'जाने',\n",
              " 'की',\n",
              " 'आवश्यकता',\n",
              " 'होती',\n",
              " 'है।',\n",
              " 'ऐसे',\n",
              " 'में',\n",
              " 'हमें',\n",
              " 'भारत',\n",
              " 'सरकार',\n",
              " 'के',\n",
              " 'वेबसाइट',\n",
              " 'के',\n",
              " 'बारे',\n",
              " 'में',\n",
              " 'पता',\n",
              " 'होना',\n",
              " 'चाहिए।',\n",
              " 'आज',\n",
              " 'हम',\n",
              " 'भारत',\n",
              " 'के',\n",
              " 'सरकारी',\n",
              " 'वेबसाइट',\n",
              " 'लिस्ट',\n",
              " 'को',\n",
              " 'आपके',\n",
              " 'साथ',\n",
              " 'साझा',\n",
              " 'कर',\n",
              " 'रहें',\n",
              " 'हैं।',\n",
              " 'आप',\n",
              " 'यहाँ',\n",
              " 'सभी',\n",
              " 'सरकारी',\n",
              " 'वेबसाइटों',\n",
              " 'की',\n",
              " 'एक',\n",
              " 'विस्तृत',\n",
              " 'सूची',\n",
              " 'पा',\n",
              " 'सकते',\n",
              " 'हैं',\n",
              " ',',\n",
              " 'जिनमें',\n",
              " 'हर',\n",
              " 'राज्य',\n",
              " 'या',\n",
              " 'केंद्र',\n",
              " 'शासित',\n",
              " 'प्रदेश',\n",
              " 'के',\n",
              " 'वेबसाइट',\n",
              " 'भी',\n",
              " 'शामिल',\n",
              " 'हैं।']"
            ]
          },
          "metadata": {},
          "execution_count": 91
        }
      ]
    },
    {
      "cell_type": "code",
      "source": [
        "import spacy"
      ],
      "metadata": {
        "id": "J-QDrL5baoJT"
      },
      "execution_count": null,
      "outputs": []
    },
    {
      "cell_type": "code",
      "source": [
        "from spacy.lang.hi import Hindi\n"
      ],
      "metadata": {
        "id": "RaLnvnq-cZga"
      },
      "execution_count": null,
      "outputs": []
    },
    {
      "cell_type": "code",
      "source": [
        "nlp = Hindi()\n",
        "\n",
        "doc = nlp(text)\n",
        "\n",
        "not_stop_words = []\n",
        "for token in doc:\n",
        "  if token.is_stop:\n",
        "    continue\n",
        "  if token.is_punct or token.text ==\"|\":\n",
        "    continue \n",
        "  not_stop_words.append(token.text)"
      ],
      "metadata": {
        "id": "ilAf7VvAcbqn"
      },
      "execution_count": null,
      "outputs": []
    },
    {
      "cell_type": "code",
      "source": [
        "not_stop_words"
      ],
      "metadata": {
        "colab": {
          "base_uri": "https://localhost:8080/"
        },
        "id": "B5e3W10McnAe",
        "outputId": "d2632b3d-4701-4b00-8cdb-a049c8af968b"
      },
      "execution_count": null,
      "outputs": [
        {
          "output_type": "execute_result",
          "data": {
            "text/plain": [
              "['सरकारी',\n",
              " 'वेबसाइट',\n",
              " 'लिस्ट',\n",
              " 'हम',\n",
              " 'सरकारी',\n",
              " 'दफ्तर',\n",
              " 'जाने',\n",
              " 'बजाय',\n",
              " 'दिनों',\n",
              " 'सरकारी',\n",
              " 'काम',\n",
              " 'सके',\n",
              " 'ऑनलाइन',\n",
              " 'ताकि',\n",
              " 'हम',\n",
              " 'काम',\n",
              " 'रहकर',\n",
              " 'सकें',\n",
              " 'समय',\n",
              " 'बर्बाद',\n",
              " 'बार',\n",
              " 'हमें',\n",
              " 'महसूस',\n",
              " 'हमारे',\n",
              " 'काम',\n",
              " 'ऑनलाइन',\n",
              " 'हमें',\n",
              " 'आधिकारिक',\n",
              " 'वेबसाइट',\n",
              " 'जाने',\n",
              " 'आवश्यकता',\n",
              " 'हमें',\n",
              " 'भारत',\n",
              " 'सरकार',\n",
              " 'वेबसाइट',\n",
              " 'बारे',\n",
              " 'पता',\n",
              " 'चाहिए',\n",
              " 'आज',\n",
              " 'हम',\n",
              " 'भारत',\n",
              " 'सरकारी',\n",
              " 'वेबसाइट',\n",
              " 'लिस्ट',\n",
              " 'आपके',\n",
              " 'साझा',\n",
              " 'रहें',\n",
              " 'सरकारी',\n",
              " 'वेबसाइटों',\n",
              " 'विस्तृत',\n",
              " 'सूची',\n",
              " 'पा',\n",
              " 'जिनमें',\n",
              " 'हर',\n",
              " 'राज्य',\n",
              " 'केंद्र',\n",
              " 'शासित',\n",
              " 'प्रदेश',\n",
              " 'वेबसाइट',\n",
              " 'शामिल']"
            ]
          },
          "metadata": {},
          "execution_count": 95
        }
      ]
    },
    {
      "cell_type": "code",
      "source": [],
      "metadata": {
        "id": "pvQLhGtQc6pf"
      },
      "execution_count": null,
      "outputs": []
    }
  ]
}